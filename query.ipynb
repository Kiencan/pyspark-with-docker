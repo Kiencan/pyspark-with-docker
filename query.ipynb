{
 "cells": [
  {
   "cell_type": "code",
   "execution_count": null,
   "id": "18b8e4fa-f9dc-46c0-9667-b3289d4a90bb",
   "metadata": {
    "scrolled": true
   },
   "outputs": [],
   "source": [
    "from pyspark.sql import SparkSession\n",
    "\n",
    "# set up jdbc driver for connect database\n",
    "spark = SparkSession.builder.config('spark.jars.packages', 'org.xerial:sqlite-jdbc:3.46.0.0').getOrCreate()"
   ]
  },
  {
   "cell_type": "code",
   "execution_count": 77,
   "id": "4974985f-a475-4691-a81c-0ebac15dc374",
   "metadata": {},
   "outputs": [],
   "source": [
    "df = spark.read.format('jdbc').options(driver='org.sqlite.JDBC', dbtable='bank',url='jdbc:sqlite:/workspace/bank.db').load()"
   ]
  },
  {
   "cell_type": "code",
   "execution_count": 78,
   "id": "fec1882d-e4c8-4b3a-b836-b7339d3590bc",
   "metadata": {},
   "outputs": [
    {
     "name": "stdout",
     "output_type": "stream",
     "text": [
      "+--------+-------------+---------+-------+-----------------+\n",
      "|    Date|       Domain| Location|  Value|Transaction_count|\n",
      "+--------+-------------+---------+-------+-----------------+\n",
      "|1/1/2022|    RESTRAUNT|     Bhuj| 365554|             1932|\n",
      "|1/1/2022|  INVESTMENTS| Ludhiana| 847444|             1721|\n",
      "|1/1/2022|       RETAIL|      Goa| 786941|             1573|\n",
      "|1/1/2022|INTERNATIONAL|  Mathura| 368610|             2049|\n",
      "|1/1/2022|    RESTRAUNT|  Madurai| 615681|             1519|\n",
      "|1/1/2022|INTERNATIONAL|    Daman|1191092|             1813|\n",
      "|1/1/2022|INTERNATIONAL|    Buxar| 968883|             2098|\n",
      "|1/1/2022|       PUBLIC|   Trichy|1030297|              606|\n",
      "|1/1/2022|    RESTRAUNT|    Kullu| 688655|             1463|\n",
      "|1/1/2022|      MEDICAL|Hyderabad|1174302|             1463|\n",
      "|1/1/2022|       PUBLIC|  Lucknow| 912902|             1035|\n",
      "|1/1/2022|  INVESTMENTS|  Bikaner| 436534|             1093|\n",
      "|1/1/2022|       PUBLIC| Amritsar| 849803|             2013|\n",
      "|1/1/2022|  INVESTMENTS|  Mathura|1180043|             2068|\n",
      "|1/1/2022|       RETAIL|     Doda|1003497|             1654|\n",
      "|1/1/2022|      MEDICAL|   Jaipur| 616724|             1686|\n",
      "|1/1/2022|       PUBLIC|   Kannur| 933938|             1362|\n",
      "|1/1/2022|       RETAIL|  Lunglei| 521003|             2304|\n",
      "|1/1/2022|  INVESTMENTS|   Bombay| 849779|             1202|\n",
      "|1/1/2022|  INVESTMENTS|   Kannur| 770080|             2431|\n",
      "+--------+-------------+---------+-------+-----------------+\n",
      "only showing top 20 rows\n",
      "\n"
     ]
    }
   ],
   "source": [
    "df.show()"
   ]
  },
  {
   "cell_type": "code",
   "execution_count": 79,
   "id": "20666be3-2302-4e06-abe0-a324e7d5dd74",
   "metadata": {},
   "outputs": [
    {
     "data": {
      "text/plain": [
       "1004480"
      ]
     },
     "execution_count": 79,
     "metadata": {},
     "output_type": "execute_result"
    }
   ],
   "source": [
    "df.count()"
   ]
  },
  {
   "cell_type": "code",
   "execution_count": 80,
   "id": "723bb82c-c656-4486-ab93-ca27c938681e",
   "metadata": {},
   "outputs": [
    {
     "name": "stderr",
     "output_type": "stream",
     "text": [
      "                                                                                \r"
     ]
    },
    {
     "data": {
      "text/plain": [
       "[Row(Date='12/31/2022', Domain='EDUCATION', Location='Konark', Value=338091, Transaction_count=2084),\n",
       " Row(Date='12/31/2022', Domain='MEDICAL', Location='Buxar', Value=501769, Transaction_count=2015),\n",
       " Row(Date='12/31/2022', Domain='EDUCATION', Location='Bidar', Value=1139388, Transaction_count=2085),\n",
       " Row(Date='12/31/2022', Domain='RETAIL', Location='Varanasi', Value=709220, Transaction_count=1309),\n",
       " Row(Date='12/31/2022', Domain='INTERNATIONAL', Location='Konark', Value=738557, Transaction_count=754),\n",
       " Row(Date='12/31/2022', Domain='INVESTMENTS', Location='Pune', Value=668180, Transaction_count=1572),\n",
       " Row(Date='12/31/2022', Domain='RETAIL', Location='Durg', Value=1000349, Transaction_count=2155),\n",
       " Row(Date='12/31/2022', Domain='INTERNATIONAL', Location='Mathura', Value=1026547, Transaction_count=2458),\n",
       " Row(Date='12/31/2022', Domain='RETAIL', Location='Patiala', Value=763159, Transaction_count=992),\n",
       " Row(Date='2/1/2023', Domain='INTERNATIONAL', Location='Bombay', Value=552250, Transaction_count=2345)]"
      ]
     },
     "execution_count": 80,
     "metadata": {},
     "output_type": "execute_result"
    }
   ],
   "source": [
    "# Create operation\n",
    "from pyspark.sql import Row\n",
    "\n",
    "# Create a new row\n",
    "new_row = Row(Date='2/1/2023', Domain='INTERNATIONAL', Location='Bombay', Value=552250, Transaction_count=2345)\n",
    "\n",
    "# Convert the Row into a DataFrame\n",
    "new_df = spark.createDataFrame([new_row], schema=df.schema)\n",
    "\n",
    "# Append the new DataFrame to the existing DataFrame\n",
    "df = df.union(new_df)\n",
    "\n",
    "# Show the updated DataFrame\n",
    "df.tail(10)"
   ]
  },
  {
   "cell_type": "code",
   "execution_count": 83,
   "id": "8537bfa8-b8a8-4b6f-a048-aef46f5c0ac4",
   "metadata": {},
   "outputs": [
    {
     "name": "stdout",
     "output_type": "stream",
     "text": [
      "+--------+-------------+---------+-------+-----------------+\n",
      "|    Date|       Domain| Location|  Value|Transaction_count|\n",
      "+--------+-------------+---------+-------+-----------------+\n",
      "|1/1/2022|INTERNATIONAL|  Mathura| 368610|             2049|\n",
      "|1/1/2022|INTERNATIONAL|    Buxar| 968883|             2098|\n",
      "|1/1/2022|       PUBLIC| Amritsar| 849803|             2013|\n",
      "|1/1/2022|  INVESTMENTS|  Mathura|1180043|             2068|\n",
      "|1/1/2022|       RETAIL|  Lunglei| 521003|             2304|\n",
      "|1/1/2022|  INVESTMENTS|   Kannur| 770080|             2431|\n",
      "|1/1/2022|       RETAIL| Amritsar| 907177|             2042|\n",
      "|1/1/2022|       RETAIL|    Bhind| 555766|             2035|\n",
      "|1/1/2022|    RESTRAUNT|   Bhopal|1155932|             2082|\n",
      "|1/1/2022|      MEDICAL|Hyderabad| 753346|             2427|\n",
      "|1/1/2022|    EDUCATION| Banglore| 379817|             2196|\n",
      "|1/1/2022|    EDUCATION| Amritsar| 799260|             2430|\n",
      "|1/1/2022|  INVESTMENTS|   Trichy|1074381|             2467|\n",
      "|1/1/2022|      MEDICAL|    Daman| 841025|             2521|\n",
      "|1/1/2022|    EDUCATION|      Ara|1190426|             2080|\n",
      "|1/1/2022|  INVESTMENTS|    Betul|1130802|             2015|\n",
      "|1/1/2022|  INVESTMENTS|Ahmedabad| 900899|             2235|\n",
      "|1/1/2022|    EDUCATION|     Pune| 651546|             2419|\n",
      "|1/1/2022|    RESTRAUNT|   Bombay| 854720|             2115|\n",
      "|1/1/2022|INTERNATIONAL|     Durg| 552250|             2470|\n",
      "+--------+-------------+---------+-------+-----------------+\n",
      "only showing top 20 rows\n",
      "\n"
     ]
    },
    {
     "name": "stderr",
     "output_type": "stream",
     "text": [
      "[Stage 104:==================================================>      (8 + 1) / 9]\r"
     ]
    },
    {
     "name": "stdout",
     "output_type": "stream",
     "text": [
      "255861\n"
     ]
    },
    {
     "name": "stderr",
     "output_type": "stream",
     "text": [
      "                                                                                \r"
     ]
    }
   ],
   "source": [
    "# Read operation\n",
    "filtered_df = df.filter(df.Transaction_count > 2000)\n",
    "\n",
    "# Search the number of cities has more than 2000 transactions\n",
    "filtered_df.show()\n",
    "print(\"Số thành phố có trên 2000 giao dịch: \", filtered_df.count())"
   ]
  },
  {
   "cell_type": "code",
   "execution_count": 82,
   "id": "2a21e21e-bb4a-4e89-8402-fc07490c0f02",
   "metadata": {},
   "outputs": [
    {
     "name": "stderr",
     "output_type": "stream",
     "text": [
      "                                                                                \r"
     ]
    },
    {
     "data": {
      "text/plain": [
       "[Row(Date='12/31/2022', Domain='EDUCATION', Location='Konark', Value=338091, Transaction_count=2084),\n",
       " Row(Date='12/31/2022', Domain='MEDICAL', Location='Buxar', Value=501769, Transaction_count=2015),\n",
       " Row(Date='12/31/2022', Domain='EDUCATION', Location='Bidar', Value=1139388, Transaction_count=2085),\n",
       " Row(Date='12/31/2022', Domain='RETAIL', Location='Varanasi', Value=709220, Transaction_count=1309),\n",
       " Row(Date='12/31/2022', Domain='INTERNATIONAL', Location='Konark', Value=738557, Transaction_count=754),\n",
       " Row(Date='12/31/2022', Domain='INVESTMENTS', Location='Pune', Value=668180, Transaction_count=1572),\n",
       " Row(Date='12/31/2022', Domain='RETAIL', Location='Durg', Value=1000349, Transaction_count=2155),\n",
       " Row(Date='12/31/2022', Domain='INTERNATIONAL', Location='Mathura', Value=1026547, Transaction_count=2458),\n",
       " Row(Date='12/31/2022', Domain='RETAIL', Location='Patiala', Value=763159, Transaction_count=992),\n",
       " Row(Date='2/1/2023', Domain='INTERNATIONAL', Location='Bombay', Value=50000, Transaction_count=2000)]"
      ]
     },
     "execution_count": 82,
     "metadata": {},
     "output_type": "execute_result"
    }
   ],
   "source": [
    "# Update operation\n",
    "from pyspark.sql.functions import when\n",
    "\n",
    "# Update the last row column with Value = 500000 and Transaction_count = 2000\n",
    "df = df.withColumn('Value', when((df.Date == '2/1/2023') & \n",
    "                                 (df.Domain == 'INTERNATIONAL') & \n",
    "                                 (df.Location == 'Bombay'), 50000).otherwise(df.Value)) \\\n",
    "               .withColumn('Transaction_count', when((df.Date == '2/1/2023') & \n",
    "                                                     (df.Domain == 'INTERNATIONAL') & \n",
    "                                                     (df.Location == 'Bombay'), 2000).otherwise(df.Transaction_count))\n",
    "\n",
    "# Show the updated DataFrame\n",
    "df.tail(10)"
   ]
  },
  {
   "cell_type": "code",
   "execution_count": 47,
   "id": "e08cd5a2-03b6-4de1-824a-f2fc0d87fe62",
   "metadata": {},
   "outputs": [
    {
     "data": {
      "text/plain": [
       "[Row(Date='1/1/2022', Domain='RESTRAUNT', Location='Bhuj', Value=365554, Transaction_count=1932),\n",
       " Row(Date='1/1/2022', Domain='INVESTMENTS', Location='Ludhiana', Value=847444, Transaction_count=1721),\n",
       " Row(Date='1/1/2022', Domain='RETAIL', Location='Goa', Value=786941, Transaction_count=1573),\n",
       " Row(Date='1/1/2022', Domain='INTERNATIONAL', Location='Mathura', Value=368610, Transaction_count=2049),\n",
       " Row(Date='1/1/2022', Domain='RESTRAUNT', Location='Madurai', Value=615681, Transaction_count=1519),\n",
       " Row(Date='1/1/2022', Domain='INTERNATIONAL', Location='Daman', Value=1191092, Transaction_count=1813),\n",
       " Row(Date='1/1/2022', Domain='INTERNATIONAL', Location='Buxar', Value=968883, Transaction_count=2098),\n",
       " Row(Date='1/1/2022', Domain='PUBLIC', Location='Trichy', Value=1030297, Transaction_count=606),\n",
       " Row(Date='1/1/2022', Domain='RESTRAUNT', Location='Kullu', Value=688655, Transaction_count=1463),\n",
       " Row(Date='1/1/2022', Domain='MEDICAL', Location='Hyderabad', Value=1174302, Transaction_count=1463)]"
      ]
     },
     "execution_count": 47,
     "metadata": {},
     "output_type": "execute_result"
    }
   ],
   "source": [
    "df.head(5)"
   ]
  },
  {
   "cell_type": "code",
   "execution_count": 49,
   "id": "cc99b00b-d98c-423e-bccf-84dc27d7bbae",
   "metadata": {},
   "outputs": [
    {
     "name": "stdout",
     "output_type": "stream",
     "text": [
      "+--------+-------------+---------+-------+-----------------+\n",
      "|    Date|       Domain| Location|  Value|Transaction_count|\n",
      "+--------+-------------+---------+-------+-----------------+\n",
      "|1/1/2022|  INVESTMENTS| Ludhiana| 847444|             1721|\n",
      "|1/1/2022|       RETAIL|      Goa| 786941|             1573|\n",
      "|1/1/2022|INTERNATIONAL|  Mathura| 368610|             2049|\n",
      "|1/1/2022|    RESTRAUNT|  Madurai| 615681|             1519|\n",
      "|1/1/2022|INTERNATIONAL|    Daman|1191092|             1813|\n",
      "|1/1/2022|INTERNATIONAL|    Buxar| 968883|             2098|\n",
      "|1/1/2022|       PUBLIC|   Trichy|1030297|              606|\n",
      "|1/1/2022|    RESTRAUNT|    Kullu| 688655|             1463|\n",
      "|1/1/2022|      MEDICAL|Hyderabad|1174302|             1463|\n",
      "|1/1/2022|       PUBLIC|  Lucknow| 912902|             1035|\n",
      "|1/1/2022|  INVESTMENTS|  Bikaner| 436534|             1093|\n",
      "|1/1/2022|       PUBLIC| Amritsar| 849803|             2013|\n",
      "|1/1/2022|  INVESTMENTS|  Mathura|1180043|             2068|\n",
      "|1/1/2022|       RETAIL|     Doda|1003497|             1654|\n",
      "|1/1/2022|      MEDICAL|   Jaipur| 616724|             1686|\n",
      "|1/1/2022|       PUBLIC|   Kannur| 933938|             1362|\n",
      "|1/1/2022|       RETAIL|  Lunglei| 521003|             2304|\n",
      "|1/1/2022|  INVESTMENTS|   Bombay| 849779|             1202|\n",
      "|1/1/2022|  INVESTMENTS|   Kannur| 770080|             2431|\n",
      "|1/1/2022|      MEDICAL|     Pune| 762330|             1492|\n",
      "+--------+-------------+---------+-------+-----------------+\n",
      "only showing top 20 rows\n",
      "\n",
      "1004480\n"
     ]
    }
   ],
   "source": [
    "# Delete Operation\n",
    "df = df.filter(~((df.Date == '1/1/2022') & \n",
    "                 (df.Domain == 'RESTRAUNT') & \n",
    "                 (df.Location == 'Bhuj') & \n",
    "                 (df.Value == 365554) & \n",
    "                 (df.Transaction_count == 1932))) # Try delete the first row\n",
    "\n",
    "df.head(5)"
   ]
  },
  {
   "cell_type": "code",
   "execution_count": 92,
   "id": "d1663a48-e940-4eb5-9697-d5e04b127c87",
   "metadata": {},
   "outputs": [
    {
     "name": "stdout",
     "output_type": "stream",
     "text": [
      "+--------+-------------+---------+-------+-----------------+\n",
      "|    Date|       Domain| Location|  Value|Transaction_count|\n",
      "+--------+-------------+---------+-------+-----------------+\n",
      "|1/1/2022|INTERNATIONAL|  Mathura| 368610|             2049|\n",
      "|1/1/2022|INTERNATIONAL|    Buxar| 968883|             2098|\n",
      "|1/1/2022|       PUBLIC| Amritsar| 849803|             2013|\n",
      "|1/1/2022|  INVESTMENTS|  Mathura|1180043|             2068|\n",
      "|1/1/2022|       RETAIL|  Lunglei| 521003|             2304|\n",
      "|1/1/2022|  INVESTMENTS|   Kannur| 770080|             2431|\n",
      "|1/1/2022|       RETAIL| Amritsar| 907177|             2042|\n",
      "|1/1/2022|       RETAIL|    Bhind| 555766|             2035|\n",
      "|1/1/2022|    RESTRAUNT|   Bhopal|1155932|             2082|\n",
      "|1/1/2022|      MEDICAL|Hyderabad| 753346|             2427|\n",
      "|1/1/2022|    EDUCATION| Banglore| 379817|             2196|\n",
      "|1/1/2022|    EDUCATION| Amritsar| 799260|             2430|\n",
      "|1/1/2022|  INVESTMENTS|   Trichy|1074381|             2467|\n",
      "|1/1/2022|      MEDICAL|    Daman| 841025|             2521|\n",
      "|1/1/2022|    EDUCATION|      Ara|1190426|             2080|\n",
      "|1/1/2022|  INVESTMENTS|    Betul|1130802|             2015|\n",
      "|1/1/2022|  INVESTMENTS|Ahmedabad| 900899|             2235|\n",
      "|1/1/2022|    EDUCATION|     Pune| 651546|             2419|\n",
      "|1/1/2022|    RESTRAUNT|   Bombay| 854720|             2115|\n",
      "|1/1/2022|INTERNATIONAL|     Durg| 552250|             2470|\n",
      "+--------+-------------+---------+-------+-----------------+\n",
      "only showing top 20 rows\n",
      "\n",
      "CPU times: user 0 ns, sys: 7.32 ms, total: 7.32 ms\n",
      "Wall time: 233 ms\n"
     ]
    }
   ],
   "source": [
    "%%time\n",
    "df.createOrReplaceTempView(\"bank\")\n",
    "spark.sql(\"SELECT * FROM bank\").show(10)"
   ]
  },
  {
   "cell_type": "code",
   "execution_count": 93,
   "id": "ba7f5bc9-c414-4612-9207-ad33f859fb6e",
   "metadata": {},
   "outputs": [
    {
     "name": "stdout",
     "output_type": "stream",
     "text": [
      "+--------+-------------+---------+-------+-----------------+\n",
      "|    Date|       Domain| Location|  Value|Transaction_count|\n",
      "+--------+-------------+---------+-------+-----------------+\n",
      "|1/1/2022|INTERNATIONAL|  Mathura| 368610|             2049|\n",
      "|1/1/2022|INTERNATIONAL|    Buxar| 968883|             2098|\n",
      "|1/1/2022|       PUBLIC| Amritsar| 849803|             2013|\n",
      "|1/1/2022|  INVESTMENTS|  Mathura|1180043|             2068|\n",
      "|1/1/2022|       RETAIL|  Lunglei| 521003|             2304|\n",
      "|1/1/2022|  INVESTMENTS|   Kannur| 770080|             2431|\n",
      "|1/1/2022|       RETAIL| Amritsar| 907177|             2042|\n",
      "|1/1/2022|       RETAIL|    Bhind| 555766|             2035|\n",
      "|1/1/2022|    RESTRAUNT|   Bhopal|1155932|             2082|\n",
      "|1/1/2022|      MEDICAL|Hyderabad| 753346|             2427|\n",
      "|1/1/2022|    EDUCATION| Banglore| 379817|             2196|\n",
      "|1/1/2022|    EDUCATION| Amritsar| 799260|             2430|\n",
      "|1/1/2022|  INVESTMENTS|   Trichy|1074381|             2467|\n",
      "|1/1/2022|      MEDICAL|    Daman| 841025|             2521|\n",
      "|1/1/2022|    EDUCATION|      Ara|1190426|             2080|\n",
      "|1/1/2022|  INVESTMENTS|    Betul|1130802|             2015|\n",
      "|1/1/2022|  INVESTMENTS|Ahmedabad| 900899|             2235|\n",
      "|1/1/2022|    EDUCATION|     Pune| 651546|             2419|\n",
      "|1/1/2022|    RESTRAUNT|   Bombay| 854720|             2115|\n",
      "|1/1/2022|INTERNATIONAL|     Durg| 552250|             2470|\n",
      "+--------+-------------+---------+-------+-----------------+\n",
      "only showing top 20 rows\n",
      "\n",
      "CPU times: user 5.27 ms, sys: 1.74 ms, total: 7.01 ms\n",
      "Wall time: 179 ms\n"
     ]
    }
   ],
   "source": [
    "%%time\n",
    "spark.sql(\"SELECT * FROM bank WHERE Transaction_count > 2000\").show(10)"
   ]
  },
  {
   "cell_type": "code",
   "execution_count": 94,
   "id": "3cae4065-6ef8-4fd7-b54c-c0d6ec0cca80",
   "metadata": {},
   "outputs": [
    {
     "name": "stderr",
     "output_type": "stream",
     "text": [
      "[Stage 123:==================================================>      (8 + 1) / 9]\r"
     ]
    },
    {
     "name": "stdout",
     "output_type": "stream",
     "text": [
      "+---------+----------+\n",
      "| Location|TotalValue|\n",
      "+---------+----------+\n",
      "|    Bhind|4235606990|\n",
      "|    Daman|4172465801|\n",
      "|   Konark|4131943527|\n",
      "|    Ajmer|4182528511|\n",
      "|    Akola|4044166341|\n",
      "| Tirumala|4159849965|\n",
      "|     Bhuj|4201359304|\n",
      "|     Durg|4215933267|\n",
      "|  Lucknow|4188089855|\n",
      "|   Kochin|4185575218|\n",
      "| Varanasi|4280956160|\n",
      "|      Ara|4133335636|\n",
      "|   Ranchi|4092574745|\n",
      "|      Goa|4308827172|\n",
      "|Ahmedabad|4193216509|\n",
      "|   Kannur|4289790701|\n",
      "|    Bidar|4168515545|\n",
      "|      Mon|4196838877|\n",
      "|  Kolkata|4214515994|\n",
      "| Ludhiana|4153784833|\n",
      "+---------+----------+\n",
      "only showing top 20 rows\n",
      "\n",
      "CPU times: user 12.4 ms, sys: 0 ns, total: 12.4 ms\n",
      "Wall time: 3.51 s\n"
     ]
    },
    {
     "name": "stderr",
     "output_type": "stream",
     "text": [
      "                                                                                \r"
     ]
    }
   ],
   "source": [
    "%%time\n",
    "spark.sql(\"SELECT Location, SUM(Value) as TotalValue FROM bank WHERE value > 2000 GROUP BY Location\").show(10)"
   ]
  },
  {
   "cell_type": "code",
   "execution_count": 96,
   "id": "4c018e0f-42d6-4326-80e9-b852a3b6f6d3",
   "metadata": {},
   "outputs": [
    {
     "name": "stderr",
     "output_type": "stream",
     "text": [
      "[Stage 129:==================================================>      (8 + 1) / 9]\r"
     ]
    },
    {
     "name": "stdout",
     "output_type": "stream",
     "text": [
      "+--------+----------+\n",
      "|Location|TotalValue|\n",
      "+--------+----------+\n",
      "|   Bhind|4235606990|\n",
      "|    Bhuj|4201359304|\n",
      "|    Durg|4215933267|\n",
      "|Varanasi|4280956160|\n",
      "|     Goa|4308827172|\n",
      "|  Kannur|4289790701|\n",
      "| Kolkata|4214515994|\n",
      "|Amritsar|4221405601|\n",
      "|    Doda|4215708322|\n",
      "| Vellore|4278822726|\n",
      "| Patiala|4226165828|\n",
      "|   Buxar|4205631132|\n",
      "| Lunglei|4217838252|\n",
      "+--------+----------+\n",
      "\n",
      "CPU times: user 1.4 ms, sys: 11.8 ms, total: 13.2 ms\n",
      "Wall time: 3.63 s\n"
     ]
    },
    {
     "name": "stderr",
     "output_type": "stream",
     "text": [
      "                                                                                \r"
     ]
    }
   ],
   "source": [
    "%%time\n",
    "spark.sql(\"SELECT Location, SUM(Value) as TotalValue FROM bank WHERE value > 2000 GROUP BY Location HAVING TotalValue > 4200000000\").show(10)"
   ]
  }
 ],
 "metadata": {
  "kernelspec": {
   "display_name": "Python 3 (ipykernel)",
   "language": "python",
   "name": "python3"
  },
  "language_info": {
   "codemirror_mode": {
    "name": "ipython",
    "version": 3
   },
   "file_extension": ".py",
   "mimetype": "text/x-python",
   "name": "python",
   "nbconvert_exporter": "python",
   "pygments_lexer": "ipython3",
   "version": "3.9.2"
  }
 },
 "nbformat": 4,
 "nbformat_minor": 5
}
