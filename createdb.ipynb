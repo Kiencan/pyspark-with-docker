{
 "cells": [
  {
   "cell_type": "code",
   "execution_count": null,
   "metadata": {},
   "outputs": [],
   "source": [
    "import sqlite3\n",
    "import random\n",
    "import string\n",
    "import pandas as pd\n",
    "\n",
    "data = pd.read_csv('/workspace/bankdataset.csv')\n",
    "# Connect to SQLite database (creates it if it doesn't exist)\n",
    "conn = sqlite3.connect('bank.db')\n",
    "cursor = conn.cursor()\n",
    "\n",
    "# Create a sample table\n",
    "cursor.execute('''\n",
    "CREATE TABLE IF NOT EXISTS bank (\n",
    "    Date VARCHAR(255) NOT NULL,\n",
    "    Domain VARCHAR(255) NOT NULL,\n",
    "\tLocation VARCHAR(255) NOT NULL,\n",
    "\tValue INT NOT NULL,\n",
    "\tTransaction_count INT NOT NULL \n",
    ");\n",
    "''')\n",
    "\n",
    "# Insert data from CSV into the database\n",
    "data.to_sql('bank', conn, if_exists='append', index=False)\n",
    "\n",
    "# Commit and close the connection\n",
    "conn.commit()\n",
    "conn.close()"
   ]
  }
 ],
 "metadata": {
  "language_info": {
   "name": "python"
  }
 },
 "nbformat": 4,
 "nbformat_minor": 2
}
